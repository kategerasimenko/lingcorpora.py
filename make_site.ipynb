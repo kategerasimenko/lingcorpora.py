{
 "cells": [
  {
   "cell_type": "markdown",
   "metadata": {},
   "source": [
    "# Script To Make Site\n",
    "\n",
    "This script converts all jupyter notebooks into markdown files, then converts all markdown files (jupyter and note) into a website ready to push to github."
   ]
  },
  {
   "cell_type": "code",
   "execution_count": 2,
   "metadata": {
    "scrolled": true
   },
   "outputs": [
    {
     "name": "stdout",
     "output_type": "stream",
     "text": [
      "No errors found during site generation, deploying to Github Pages\n"
     ]
    }
   ],
   "source": [
    "# Load library\n",
    "import os\n",
    "\n",
    "# Create path to content\n",
    "path = 'content/'\n",
    "\n",
    "# Find all jupyter notebooks in all content folders\n",
    "all_ipynb_files = [os.path.join(root, name)\n",
    "                   for root, dirs, files in os.walk(path)\n",
    "                   for name in files\n",
    "                   if name.endswith((\".ipynb\"))]\n",
    "\n",
    "# Remove all notebooks from checkpoint folders\n",
    "files = [ x for x in all_ipynb_files if \".ipynb_checkpoints\" not in x ]\n",
    "\n",
    "# For each file\n",
    "for file in files:\n",
    "    # Convert into markdown\n",
    "    os.system('jupyter nbconvert --to markdown {file}'.format(file=file))\n",
    "    \n",
    "    # Open markdown, delete first row, save markdown\n",
    "    markdown_file = file.replace('.ipynb', '.md')\n",
    "    with open(markdown_file, 'r') as fin:\n",
    "        data = fin.read().splitlines(True)\n",
    "    with open(markdown_file, 'w') as fout:\n",
    "        fout.writelines(data[1:])\n",
    "\n",
    "# Compile site\n",
    "generate_site = os.system('pelican content -o output -s pelicanconf.py')\n",
    "\n",
    "# If no error:\n",
    "if generate_site == 0:\n",
    "    # Print action\n",
    "    print('No errors found during site generation, deploying to Github Pages')\n",
    "    \n",
    "    # Publish site to github\n",
    "    os.system('ghp-import output')\n",
    "    os.system('git push origin gh-pages')\n",
    "# Otherwise:\n",
    "else:\n",
    "    # Print error\n",
    "    print('Error found during site generation, halting deployment')"
   ]
  }
 ],
 "metadata": {
  "kernelspec": {
   "display_name": "Python 3",
   "language": "python",
   "name": "python3"
  },
  "language_info": {
   "codemirror_mode": {
    "name": "ipython",
    "version": 3
   },
   "file_extension": ".py",
   "mimetype": "text/x-python",
   "name": "python",
   "nbconvert_exporter": "python",
   "pygments_lexer": "ipython3",
   "version": "3.6.2"
  }
 },
 "nbformat": 4,
 "nbformat_minor": 2
}
